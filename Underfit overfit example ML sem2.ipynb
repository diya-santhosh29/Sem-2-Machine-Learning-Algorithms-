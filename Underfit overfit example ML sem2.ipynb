{
 "cells": [
  {
   "cell_type": "code",
   "execution_count": 1,
   "id": "5fe5bb64",
   "metadata": {},
   "outputs": [],
   "source": [
    "import numpy as np\n",
    "import numpy.random as rnd\n",
    "import matplotlib.pyplot as plt\n",
    "%matplotlib inline\n",
    "np.random.seed(42)\n",
    "from sklearn.preprocessing import PolynomialFeatures\n",
    "from sklearn.linear_model import LinearRegression"
   ]
  },
  {
   "cell_type": "code",
   "execution_count": 2,
   "id": "a02e7853",
   "metadata": {},
   "outputs": [],
   "source": [
    "ndata=30\n",
    "factor=1\n",
    "x=6*np.random.rand(ndata,1)-3\n",
    "y=-0.5*x**2+x+2.5+np.random.randn(ndata,1)*factor"
   ]
  },
  {
   "cell_type": "code",
   "execution_count": 4,
   "id": "ecba4204",
   "metadata": {},
   "outputs": [],
   "source": [
    "degree=1\n",
    "poly_features=PolynomialFeatures(degree=degree,include_bias=True)\n",
    "x_poly=poly_features.fit_transform(x)"
   ]
  },
  {
   "cell_type": "code",
   "execution_count": 5,
   "id": "6a42b682",
   "metadata": {},
   "outputs": [],
   "source": [
    "from sklearn.model_selection import train_test_split\n",
    "x_train,x_test,y_train,y_test=train_test_split(x_poly,y,test_size=0.20,random_state=42)"
   ]
  },
  {
   "cell_type": "code",
   "execution_count": 7,
   "id": "351f83eb",
   "metadata": {},
   "outputs": [
    {
     "data": {
      "text/plain": [
       "LinearRegression()"
      ]
     },
     "execution_count": 7,
     "metadata": {},
     "output_type": "execute_result"
    }
   ],
   "source": [
    "lin_reg=LinearRegression()\n",
    "lin_reg.fit(x_train,y_train)"
   ]
  },
  {
   "cell_type": "code",
   "execution_count": 8,
   "id": "e860d2eb",
   "metadata": {},
   "outputs": [],
   "source": [
    "y_train_hat=lin_reg.predict(x_train)"
   ]
  },
  {
   "cell_type": "code",
   "execution_count": 9,
   "id": "ce969546",
   "metadata": {},
   "outputs": [
    {
     "name": "stdout",
     "output_type": "stream",
     "text": [
      "MAE: 1.1963278531204378\n",
      "RMSE: 1.4777215148981244\n",
      "R_squared: 0.49313576737813525\n"
     ]
    }
   ],
   "source": [
    "from sklearn import metrics\n",
    "print('MAE:',metrics.mean_absolute_error(y_train,y_train_hat))\n",
    "print('RMSE:',np.sqrt(metrics.mean_squared_error(y_train,y_train_hat)))\n",
    "print('R_squared:',metrics.r2_score(y_train,y_train_hat))\n"
   ]
  },
  {
   "cell_type": "code",
   "execution_count": 12,
   "id": "949cdc2a",
   "metadata": {},
   "outputs": [],
   "source": [
    "y_test_hat=lin_reg.predict(x_test)"
   ]
  },
  {
   "cell_type": "code",
   "execution_count": 14,
   "id": "f65c6cd7",
   "metadata": {},
   "outputs": [
    {
     "name": "stdout",
     "output_type": "stream",
     "text": [
      "MAE: 1.231480417558453\n",
      "RMSE: 1.658394138192764\n",
      "R_squared: 0.1118707819537007\n"
     ]
    }
   ],
   "source": [
    "from sklearn import metrics\n",
    "print('MAE:',metrics.mean_absolute_error(y_test,y_test_hat))\n",
    "print('RMSE:',np.sqrt(metrics.mean_squared_error(y_test,y_test_hat)))\n",
    "print('R_squared:',metrics.r2_score(y_test,y_test_hat))\n",
    "#this model is underfit"
   ]
  },
  {
   "cell_type": "code",
   "execution_count": 15,
   "id": "eaa5522f",
   "metadata": {},
   "outputs": [],
   "source": [
    "degree=20\n",
    "poly_features=PolynomialFeatures(degree=degree,include_bias=True)\n",
    "x_poly=poly_features.fit_transform(x)"
   ]
  },
  {
   "cell_type": "code",
   "execution_count": 16,
   "id": "bac28229",
   "metadata": {},
   "outputs": [],
   "source": [
    "from sklearn.model_selection import train_test_split\n",
    "x_train,x_test,y_train,y_test=train_test_split(x_poly,y,test_size=0.20,random_state=42)"
   ]
  },
  {
   "cell_type": "code",
   "execution_count": 17,
   "id": "8bc821a9",
   "metadata": {},
   "outputs": [
    {
     "data": {
      "text/plain": [
       "LinearRegression()"
      ]
     },
     "execution_count": 17,
     "metadata": {},
     "output_type": "execute_result"
    }
   ],
   "source": [
    "lin_reg=LinearRegression()\n",
    "lin_reg.fit(x_train,y_train)"
   ]
  },
  {
   "cell_type": "code",
   "execution_count": 18,
   "id": "8730bfdf",
   "metadata": {},
   "outputs": [],
   "source": [
    "y_train_hat=lin_reg.predict(x_train)"
   ]
  },
  {
   "cell_type": "code",
   "execution_count": 19,
   "id": "be912ece",
   "metadata": {},
   "outputs": [
    {
     "name": "stdout",
     "output_type": "stream",
     "text": [
      "MAE: 0.22081907112598867\n",
      "RMSE: 0.42941188651773804\n",
      "R_squared: 0.9571989348726645\n"
     ]
    }
   ],
   "source": [
    "from sklearn import metrics\n",
    "print('MAE:',metrics.mean_absolute_error(y_train,y_train_hat))\n",
    "print('RMSE:',np.sqrt(metrics.mean_squared_error(y_train,y_train_hat)))\n",
    "print('R_squared:',metrics.r2_score(y_train,y_train_hat))"
   ]
  },
  {
   "cell_type": "code",
   "execution_count": 20,
   "id": "e13b1d1a",
   "metadata": {},
   "outputs": [],
   "source": [
    "y_test_hat=lin_reg.predict(x_test)"
   ]
  },
  {
   "cell_type": "code",
   "execution_count": 21,
   "id": "49968293",
   "metadata": {},
   "outputs": [
    {
     "name": "stdout",
     "output_type": "stream",
     "text": [
      "MAE: 10.898178460413243\n",
      "RMSE: 16.50272954311802\n",
      "R_squared: -86.94521487489763\n"
     ]
    }
   ],
   "source": [
    "from sklearn import metrics\n",
    "print('MAE:',metrics.mean_absolute_error(y_test,y_test_hat))\n",
    "print('RMSE:',np.sqrt(metrics.mean_squared_error(y_test,y_test_hat)))\n",
    "print('R_squared:',metrics.r2_score(y_test,y_test_hat))\n",
    "#this model is overfit bcz training error is less but test error is very high"
   ]
  },
  {
   "cell_type": "code",
   "execution_count": 22,
   "id": "2ded9b05",
   "metadata": {},
   "outputs": [],
   "source": [
    "degree=2\n",
    "poly_features=PolynomialFeatures(degree=degree,include_bias=True)\n",
    "x_poly=poly_features.fit_transform(x)"
   ]
  },
  {
   "cell_type": "code",
   "execution_count": 23,
   "id": "28b6d568",
   "metadata": {},
   "outputs": [],
   "source": [
    "from sklearn.model_selection import train_test_split\n",
    "x_train,x_test,y_train,y_test=train_test_split(x_poly,y,test_size=0.20,random_state=42)"
   ]
  },
  {
   "cell_type": "code",
   "execution_count": 24,
   "id": "fc077e03",
   "metadata": {},
   "outputs": [
    {
     "data": {
      "text/plain": [
       "LinearRegression()"
      ]
     },
     "execution_count": 24,
     "metadata": {},
     "output_type": "execute_result"
    }
   ],
   "source": [
    "lin_reg=LinearRegression()\n",
    "lin_reg.fit(x_train,y_train)"
   ]
  },
  {
   "cell_type": "code",
   "execution_count": 25,
   "id": "e61cb0ad",
   "metadata": {},
   "outputs": [],
   "source": [
    "y_train_hat=lin_reg.predict(x_train)"
   ]
  },
  {
   "cell_type": "code",
   "execution_count": 26,
   "id": "d146890b",
   "metadata": {},
   "outputs": [
    {
     "name": "stdout",
     "output_type": "stream",
     "text": [
      "MAE: 0.6305346130956531\n",
      "RMSE: 0.7766921439783101\n",
      "R_squared: 0.859975420305426\n"
     ]
    }
   ],
   "source": [
    "from sklearn import metrics\n",
    "print('MAE:',metrics.mean_absolute_error(y_train,y_train_hat))\n",
    "print('RMSE:',np.sqrt(metrics.mean_squared_error(y_train,y_train_hat)))\n",
    "print('R_squared:',metrics.r2_score(y_train,y_train_hat))"
   ]
  },
  {
   "cell_type": "code",
   "execution_count": 27,
   "id": "52776526",
   "metadata": {},
   "outputs": [],
   "source": [
    "y_test_hat=lin_reg.predict(x_test)"
   ]
  },
  {
   "cell_type": "code",
   "execution_count": 28,
   "id": "f7d56e01",
   "metadata": {},
   "outputs": [
    {
     "name": "stdout",
     "output_type": "stream",
     "text": [
      "MAE: 0.7686317266892623\n",
      "RMSE: 0.9731373041500693\n",
      "R_squared: 0.6941919651035398\n"
     ]
    }
   ],
   "source": [
    "from sklearn import metrics\n",
    "print('MAE:',metrics.mean_absolute_error(y_test,y_test_hat))\n",
    "print('RMSE:',np.sqrt(metrics.mean_squared_error(y_test,y_test_hat)))\n",
    "print('R_squared:',metrics.r2_score(y_test,y_test_hat))\n",
    "#this model is ok"
   ]
  },
  {
   "cell_type": "code",
   "execution_count": null,
   "id": "73601d54",
   "metadata": {},
   "outputs": [],
   "source": []
  }
 ],
 "metadata": {
  "kernelspec": {
   "display_name": "Python 3",
   "language": "python",
   "name": "python3"
  },
  "language_info": {
   "codemirror_mode": {
    "name": "ipython",
    "version": 3
   },
   "file_extension": ".py",
   "mimetype": "text/x-python",
   "name": "python",
   "nbconvert_exporter": "python",
   "pygments_lexer": "ipython3",
   "version": "3.8.8"
  }
 },
 "nbformat": 4,
 "nbformat_minor": 5
}
